{
 "cells": [
  {
   "cell_type": "code",
   "execution_count": 7,
   "metadata": {},
   "outputs": [],
   "source": [
    "import pandas as pd\n",
    "import sqlalchemy\n",
    "# from binance.client import Client\n",
    "from binance import Client, ThreadedWebsocketManager, ThreadedDepthCacheManager\n",
    "import os\n",
    "import math"
   ]
  },
  {
   "cell_type": "code",
   "execution_count": 3,
   "metadata": {},
   "outputs": [],
   "source": [
    "#paper\n",
    "# api_Key = 'MrJxzbG8M2mPnBIY2M8mjDakt4O3DasJFmmKObyBQ1ScqmdZtXw00geR1dNB3RgZ'\n",
    "# api_secret = 'G4ZIDktXNCtVmnVfSep2JViuBrnS0vulXHI2JPZGzTkGHotuXwQyjujPguqTpxEG'\n",
    "\n",
    "# client = Client(api_Key, api_secret)\n",
    "#real\n",
    "api_Key = 'nux5568AFIq0eL63qdQpsFHgG08nKGg3aO3FRDduzxhxOTx3l3FN1kpMTyXbE8it'\n",
    "api_secret ='kgj4GJz65eqaumiBH0Bgu4L7eaG4eVqJc9u6UZ12ykChYaMgbN6fZDzYr5EO0fyl'\n",
    "client = Client(api_Key, api_secret)\n",
    "engine = sqlalchemy.create_engine('sqlite:///BTCUSDTstream.db')"
   ]
  },
  {
   "cell_type": "code",
   "execution_count": 70,
   "metadata": {},
   "outputs": [
    {
     "ename": "BinanceAPIException",
     "evalue": "APIError(code=-1111): Precision is over the maximum defined for this asset.",
     "output_type": "error",
     "traceback": [
      "\u001b[1;31m---------------------------------------------------------------------------\u001b[0m",
      "\u001b[1;31mBinanceAPIException\u001b[0m                       Traceback (most recent call last)",
      "\u001b[1;32m<ipython-input-70-b0c61c6088f9>\u001b[0m in \u001b[0;36m<module>\u001b[1;34m\u001b[0m\n\u001b[0;32m     13\u001b[0m \u001b[0mquantity\u001b[0m \u001b[1;33m=\u001b[0m \u001b[0mtotal_per_trade\u001b[0m \u001b[1;33m/\u001b[0m \u001b[0mprice\u001b[0m\u001b[1;33m\u001b[0m\u001b[1;33m\u001b[0m\u001b[0m\n\u001b[0;32m     14\u001b[0m \u001b[0msize\u001b[0m \u001b[1;33m=\u001b[0m \u001b[0mget_binanace_quantity\u001b[0m\u001b[1;33m(\u001b[0m\u001b[0msym\u001b[0m\u001b[1;33m,\u001b[0m\u001b[0mquantity\u001b[0m\u001b[1;33m)\u001b[0m\u001b[1;33m\u001b[0m\u001b[1;33m\u001b[0m\u001b[0m\n\u001b[1;32m---> 15\u001b[1;33m \u001b[0mclient\u001b[0m\u001b[1;33m.\u001b[0m\u001b[0mfutures_create_order\u001b[0m\u001b[1;33m(\u001b[0m\u001b[0msymbol\u001b[0m\u001b[1;33m=\u001b[0m\u001b[0msym\u001b[0m\u001b[1;33m,\u001b[0m \u001b[0mside\u001b[0m\u001b[1;33m=\u001b[0m\u001b[1;34m'BUY'\u001b[0m\u001b[1;33m,\u001b[0m \u001b[0mtype\u001b[0m\u001b[1;33m=\u001b[0m\u001b[1;34m'MARKET'\u001b[0m\u001b[1;33m,\u001b[0m \u001b[0mquantity\u001b[0m\u001b[1;33m=\u001b[0m\u001b[0msize\u001b[0m\u001b[1;33m)\u001b[0m\u001b[1;33m\u001b[0m\u001b[1;33m\u001b[0m\u001b[0m\n\u001b[0m",
      "\u001b[1;32m~\\Anaconda3\\lib\\site-packages\\binance\\client.py\u001b[0m in \u001b[0;36mfutures_create_order\u001b[1;34m(self, **params)\u001b[0m\n\u001b[0;32m   5289\u001b[0m \u001b[1;33m\u001b[0m\u001b[0m\n\u001b[0;32m   5290\u001b[0m         \"\"\"\n\u001b[1;32m-> 5291\u001b[1;33m         \u001b[1;32mreturn\u001b[0m \u001b[0mself\u001b[0m\u001b[1;33m.\u001b[0m\u001b[0m_request_futures_api\u001b[0m\u001b[1;33m(\u001b[0m\u001b[1;34m'post'\u001b[0m\u001b[1;33m,\u001b[0m \u001b[1;34m'order'\u001b[0m\u001b[1;33m,\u001b[0m \u001b[1;32mTrue\u001b[0m\u001b[1;33m,\u001b[0m \u001b[0mdata\u001b[0m\u001b[1;33m=\u001b[0m\u001b[0mparams\u001b[0m\u001b[1;33m)\u001b[0m\u001b[1;33m\u001b[0m\u001b[1;33m\u001b[0m\u001b[0m\n\u001b[0m\u001b[0;32m   5292\u001b[0m \u001b[1;33m\u001b[0m\u001b[0m\n\u001b[0;32m   5293\u001b[0m     \u001b[1;32mdef\u001b[0m \u001b[0mfutures_place_batch_order\u001b[0m\u001b[1;33m(\u001b[0m\u001b[0mself\u001b[0m\u001b[1;33m,\u001b[0m \u001b[1;33m**\u001b[0m\u001b[0mparams\u001b[0m\u001b[1;33m)\u001b[0m\u001b[1;33m:\u001b[0m\u001b[1;33m\u001b[0m\u001b[1;33m\u001b[0m\u001b[0m\n",
      "\u001b[1;32m~\\Anaconda3\\lib\\site-packages\\binance\\client.py\u001b[0m in \u001b[0;36m_request_futures_api\u001b[1;34m(self, method, path, signed, **kwargs)\u001b[0m\n\u001b[0;32m    331\u001b[0m         \u001b[0muri\u001b[0m \u001b[1;33m=\u001b[0m \u001b[0mself\u001b[0m\u001b[1;33m.\u001b[0m\u001b[0m_create_futures_api_uri\u001b[0m\u001b[1;33m(\u001b[0m\u001b[0mpath\u001b[0m\u001b[1;33m)\u001b[0m\u001b[1;33m\u001b[0m\u001b[1;33m\u001b[0m\u001b[0m\n\u001b[0;32m    332\u001b[0m \u001b[1;33m\u001b[0m\u001b[0m\n\u001b[1;32m--> 333\u001b[1;33m         \u001b[1;32mreturn\u001b[0m \u001b[0mself\u001b[0m\u001b[1;33m.\u001b[0m\u001b[0m_request\u001b[0m\u001b[1;33m(\u001b[0m\u001b[0mmethod\u001b[0m\u001b[1;33m,\u001b[0m \u001b[0muri\u001b[0m\u001b[1;33m,\u001b[0m \u001b[0msigned\u001b[0m\u001b[1;33m,\u001b[0m \u001b[1;32mTrue\u001b[0m\u001b[1;33m,\u001b[0m \u001b[1;33m**\u001b[0m\u001b[0mkwargs\u001b[0m\u001b[1;33m)\u001b[0m\u001b[1;33m\u001b[0m\u001b[1;33m\u001b[0m\u001b[0m\n\u001b[0m\u001b[0;32m    334\u001b[0m \u001b[1;33m\u001b[0m\u001b[0m\n\u001b[0;32m    335\u001b[0m     \u001b[1;32mdef\u001b[0m \u001b[0m_request_futures_data_api\u001b[0m\u001b[1;33m(\u001b[0m\u001b[0mself\u001b[0m\u001b[1;33m,\u001b[0m \u001b[0mmethod\u001b[0m\u001b[1;33m,\u001b[0m \u001b[0mpath\u001b[0m\u001b[1;33m,\u001b[0m \u001b[0msigned\u001b[0m\u001b[1;33m=\u001b[0m\u001b[1;32mFalse\u001b[0m\u001b[1;33m,\u001b[0m \u001b[1;33m**\u001b[0m\u001b[0mkwargs\u001b[0m\u001b[1;33m)\u001b[0m \u001b[1;33m->\u001b[0m \u001b[0mDict\u001b[0m\u001b[1;33m:\u001b[0m\u001b[1;33m\u001b[0m\u001b[1;33m\u001b[0m\u001b[0m\n",
      "\u001b[1;32m~\\Anaconda3\\lib\\site-packages\\binance\\client.py\u001b[0m in \u001b[0;36m_request\u001b[1;34m(self, method, uri, signed, force_params, **kwargs)\u001b[0m\n\u001b[0;32m    307\u001b[0m \u001b[1;33m\u001b[0m\u001b[0m\n\u001b[0;32m    308\u001b[0m         \u001b[0mself\u001b[0m\u001b[1;33m.\u001b[0m\u001b[0mresponse\u001b[0m \u001b[1;33m=\u001b[0m \u001b[0mgetattr\u001b[0m\u001b[1;33m(\u001b[0m\u001b[0mself\u001b[0m\u001b[1;33m.\u001b[0m\u001b[0msession\u001b[0m\u001b[1;33m,\u001b[0m \u001b[0mmethod\u001b[0m\u001b[1;33m)\u001b[0m\u001b[1;33m(\u001b[0m\u001b[0muri\u001b[0m\u001b[1;33m,\u001b[0m \u001b[1;33m**\u001b[0m\u001b[0mkwargs\u001b[0m\u001b[1;33m)\u001b[0m\u001b[1;33m\u001b[0m\u001b[1;33m\u001b[0m\u001b[0m\n\u001b[1;32m--> 309\u001b[1;33m         \u001b[1;32mreturn\u001b[0m \u001b[0mself\u001b[0m\u001b[1;33m.\u001b[0m\u001b[0m_handle_response\u001b[0m\u001b[1;33m(\u001b[0m\u001b[0mself\u001b[0m\u001b[1;33m.\u001b[0m\u001b[0mresponse\u001b[0m\u001b[1;33m)\u001b[0m\u001b[1;33m\u001b[0m\u001b[1;33m\u001b[0m\u001b[0m\n\u001b[0m\u001b[0;32m    310\u001b[0m \u001b[1;33m\u001b[0m\u001b[0m\n\u001b[0;32m    311\u001b[0m     \u001b[1;33m@\u001b[0m\u001b[0mstaticmethod\u001b[0m\u001b[1;33m\u001b[0m\u001b[1;33m\u001b[0m\u001b[0m\n",
      "\u001b[1;32m~\\Anaconda3\\lib\\site-packages\\binance\\client.py\u001b[0m in \u001b[0;36m_handle_response\u001b[1;34m(response)\u001b[0m\n\u001b[0;32m    316\u001b[0m         \"\"\"\n\u001b[0;32m    317\u001b[0m         \u001b[1;32mif\u001b[0m \u001b[1;32mnot\u001b[0m \u001b[1;33m(\u001b[0m\u001b[1;36m200\u001b[0m \u001b[1;33m<=\u001b[0m \u001b[0mresponse\u001b[0m\u001b[1;33m.\u001b[0m\u001b[0mstatus_code\u001b[0m \u001b[1;33m<\u001b[0m \u001b[1;36m300\u001b[0m\u001b[1;33m)\u001b[0m\u001b[1;33m:\u001b[0m\u001b[1;33m\u001b[0m\u001b[1;33m\u001b[0m\u001b[0m\n\u001b[1;32m--> 318\u001b[1;33m             \u001b[1;32mraise\u001b[0m \u001b[0mBinanceAPIException\u001b[0m\u001b[1;33m(\u001b[0m\u001b[0mresponse\u001b[0m\u001b[1;33m,\u001b[0m \u001b[0mresponse\u001b[0m\u001b[1;33m.\u001b[0m\u001b[0mstatus_code\u001b[0m\u001b[1;33m,\u001b[0m \u001b[0mresponse\u001b[0m\u001b[1;33m.\u001b[0m\u001b[0mtext\u001b[0m\u001b[1;33m)\u001b[0m\u001b[1;33m\u001b[0m\u001b[1;33m\u001b[0m\u001b[0m\n\u001b[0m\u001b[0;32m    319\u001b[0m         \u001b[1;32mtry\u001b[0m\u001b[1;33m:\u001b[0m\u001b[1;33m\u001b[0m\u001b[1;33m\u001b[0m\u001b[0m\n\u001b[0;32m    320\u001b[0m             \u001b[1;32mreturn\u001b[0m \u001b[0mresponse\u001b[0m\u001b[1;33m.\u001b[0m\u001b[0mjson\u001b[0m\u001b[1;33m(\u001b[0m\u001b[1;33m)\u001b[0m\u001b[1;33m\u001b[0m\u001b[1;33m\u001b[0m\u001b[0m\n",
      "\u001b[1;31mBinanceAPIException\u001b[0m: APIError(code=-1111): Precision is over the maximum defined for this asset."
     ]
    }
   ],
   "source": [
    "def get_binanace_quantity(sym,quantity):\n",
    "    symbol_info = client.get_symbol_info(sym)\n",
    "    step_size = 0.0\n",
    "    for f in symbol_info['filters']:\n",
    "        if f['filterType'] == 'LOT_SIZE':\n",
    "            step_size = float(f['stepSize'])\n",
    "    precision = int(round(-math.log(step_size, 10), 0))\n",
    "    quantity = float(round(quantity, 6))\n",
    "    return quantity\n",
    "sym = 'ETHUSDT'\n",
    "total_per_trade = 10\n",
    "price = float(client.get_symbol_ticker(symbol=sym)['price'])\n",
    "quantity = total_per_trade / price\n",
    "size = get_binanace_quantity(sym,quantity)\n",
    "client.futures_create_order(symbol=sym, side='BUY', type='MARKET', quantity=size)"
   ]
  },
  {
   "cell_type": "code",
   "execution_count": 68,
   "metadata": {},
   "outputs": [
    {
     "ename": "BinanceAPIException",
     "evalue": "APIError(code=-1111): Precision is over the maximum defined for this asset.",
     "output_type": "error",
     "traceback": [
      "\u001b[1;31m---------------------------------------------------------------------------\u001b[0m",
      "\u001b[1;31mBinanceAPIException\u001b[0m                       Traceback (most recent call last)",
      "\u001b[1;32m<ipython-input-68-6447efff6f5e>\u001b[0m in \u001b[0;36m<module>\u001b[1;34m\u001b[0m\n\u001b[1;32m----> 1\u001b[1;33m \u001b[0mclient\u001b[0m\u001b[1;33m.\u001b[0m\u001b[0mfutures_create_order\u001b[0m\u001b[1;33m(\u001b[0m\u001b[0msymbol\u001b[0m\u001b[1;33m=\u001b[0m\u001b[0msym\u001b[0m\u001b[1;33m,\u001b[0m \u001b[0mside\u001b[0m\u001b[1;33m=\u001b[0m\u001b[1;34m'SELL'\u001b[0m\u001b[1;33m,\u001b[0m \u001b[0mtype\u001b[0m\u001b[1;33m=\u001b[0m\u001b[1;34m'MARKET'\u001b[0m\u001b[1;33m,\u001b[0m \u001b[0mquantity\u001b[0m\u001b[1;33m=\u001b[0m\u001b[0msize\u001b[0m\u001b[1;33m)\u001b[0m\u001b[1;33m\u001b[0m\u001b[1;33m\u001b[0m\u001b[0m\n\u001b[0m",
      "\u001b[1;32m~\\Anaconda3\\lib\\site-packages\\binance\\client.py\u001b[0m in \u001b[0;36mfutures_create_order\u001b[1;34m(self, **params)\u001b[0m\n\u001b[0;32m   5289\u001b[0m \u001b[1;33m\u001b[0m\u001b[0m\n\u001b[0;32m   5290\u001b[0m         \"\"\"\n\u001b[1;32m-> 5291\u001b[1;33m         \u001b[1;32mreturn\u001b[0m \u001b[0mself\u001b[0m\u001b[1;33m.\u001b[0m\u001b[0m_request_futures_api\u001b[0m\u001b[1;33m(\u001b[0m\u001b[1;34m'post'\u001b[0m\u001b[1;33m,\u001b[0m \u001b[1;34m'order'\u001b[0m\u001b[1;33m,\u001b[0m \u001b[1;32mTrue\u001b[0m\u001b[1;33m,\u001b[0m \u001b[0mdata\u001b[0m\u001b[1;33m=\u001b[0m\u001b[0mparams\u001b[0m\u001b[1;33m)\u001b[0m\u001b[1;33m\u001b[0m\u001b[1;33m\u001b[0m\u001b[0m\n\u001b[0m\u001b[0;32m   5292\u001b[0m \u001b[1;33m\u001b[0m\u001b[0m\n\u001b[0;32m   5293\u001b[0m     \u001b[1;32mdef\u001b[0m \u001b[0mfutures_place_batch_order\u001b[0m\u001b[1;33m(\u001b[0m\u001b[0mself\u001b[0m\u001b[1;33m,\u001b[0m \u001b[1;33m**\u001b[0m\u001b[0mparams\u001b[0m\u001b[1;33m)\u001b[0m\u001b[1;33m:\u001b[0m\u001b[1;33m\u001b[0m\u001b[1;33m\u001b[0m\u001b[0m\n",
      "\u001b[1;32m~\\Anaconda3\\lib\\site-packages\\binance\\client.py\u001b[0m in \u001b[0;36m_request_futures_api\u001b[1;34m(self, method, path, signed, **kwargs)\u001b[0m\n\u001b[0;32m    331\u001b[0m         \u001b[0muri\u001b[0m \u001b[1;33m=\u001b[0m \u001b[0mself\u001b[0m\u001b[1;33m.\u001b[0m\u001b[0m_create_futures_api_uri\u001b[0m\u001b[1;33m(\u001b[0m\u001b[0mpath\u001b[0m\u001b[1;33m)\u001b[0m\u001b[1;33m\u001b[0m\u001b[1;33m\u001b[0m\u001b[0m\n\u001b[0;32m    332\u001b[0m \u001b[1;33m\u001b[0m\u001b[0m\n\u001b[1;32m--> 333\u001b[1;33m         \u001b[1;32mreturn\u001b[0m \u001b[0mself\u001b[0m\u001b[1;33m.\u001b[0m\u001b[0m_request\u001b[0m\u001b[1;33m(\u001b[0m\u001b[0mmethod\u001b[0m\u001b[1;33m,\u001b[0m \u001b[0muri\u001b[0m\u001b[1;33m,\u001b[0m \u001b[0msigned\u001b[0m\u001b[1;33m,\u001b[0m \u001b[1;32mTrue\u001b[0m\u001b[1;33m,\u001b[0m \u001b[1;33m**\u001b[0m\u001b[0mkwargs\u001b[0m\u001b[1;33m)\u001b[0m\u001b[1;33m\u001b[0m\u001b[1;33m\u001b[0m\u001b[0m\n\u001b[0m\u001b[0;32m    334\u001b[0m \u001b[1;33m\u001b[0m\u001b[0m\n\u001b[0;32m    335\u001b[0m     \u001b[1;32mdef\u001b[0m \u001b[0m_request_futures_data_api\u001b[0m\u001b[1;33m(\u001b[0m\u001b[0mself\u001b[0m\u001b[1;33m,\u001b[0m \u001b[0mmethod\u001b[0m\u001b[1;33m,\u001b[0m \u001b[0mpath\u001b[0m\u001b[1;33m,\u001b[0m \u001b[0msigned\u001b[0m\u001b[1;33m=\u001b[0m\u001b[1;32mFalse\u001b[0m\u001b[1;33m,\u001b[0m \u001b[1;33m**\u001b[0m\u001b[0mkwargs\u001b[0m\u001b[1;33m)\u001b[0m \u001b[1;33m->\u001b[0m \u001b[0mDict\u001b[0m\u001b[1;33m:\u001b[0m\u001b[1;33m\u001b[0m\u001b[1;33m\u001b[0m\u001b[0m\n",
      "\u001b[1;32m~\\Anaconda3\\lib\\site-packages\\binance\\client.py\u001b[0m in \u001b[0;36m_request\u001b[1;34m(self, method, uri, signed, force_params, **kwargs)\u001b[0m\n\u001b[0;32m    307\u001b[0m \u001b[1;33m\u001b[0m\u001b[0m\n\u001b[0;32m    308\u001b[0m         \u001b[0mself\u001b[0m\u001b[1;33m.\u001b[0m\u001b[0mresponse\u001b[0m \u001b[1;33m=\u001b[0m \u001b[0mgetattr\u001b[0m\u001b[1;33m(\u001b[0m\u001b[0mself\u001b[0m\u001b[1;33m.\u001b[0m\u001b[0msession\u001b[0m\u001b[1;33m,\u001b[0m \u001b[0mmethod\u001b[0m\u001b[1;33m)\u001b[0m\u001b[1;33m(\u001b[0m\u001b[0muri\u001b[0m\u001b[1;33m,\u001b[0m \u001b[1;33m**\u001b[0m\u001b[0mkwargs\u001b[0m\u001b[1;33m)\u001b[0m\u001b[1;33m\u001b[0m\u001b[1;33m\u001b[0m\u001b[0m\n\u001b[1;32m--> 309\u001b[1;33m         \u001b[1;32mreturn\u001b[0m \u001b[0mself\u001b[0m\u001b[1;33m.\u001b[0m\u001b[0m_handle_response\u001b[0m\u001b[1;33m(\u001b[0m\u001b[0mself\u001b[0m\u001b[1;33m.\u001b[0m\u001b[0mresponse\u001b[0m\u001b[1;33m)\u001b[0m\u001b[1;33m\u001b[0m\u001b[1;33m\u001b[0m\u001b[0m\n\u001b[0m\u001b[0;32m    310\u001b[0m \u001b[1;33m\u001b[0m\u001b[0m\n\u001b[0;32m    311\u001b[0m     \u001b[1;33m@\u001b[0m\u001b[0mstaticmethod\u001b[0m\u001b[1;33m\u001b[0m\u001b[1;33m\u001b[0m\u001b[0m\n",
      "\u001b[1;32m~\\Anaconda3\\lib\\site-packages\\binance\\client.py\u001b[0m in \u001b[0;36m_handle_response\u001b[1;34m(response)\u001b[0m\n\u001b[0;32m    316\u001b[0m         \"\"\"\n\u001b[0;32m    317\u001b[0m         \u001b[1;32mif\u001b[0m \u001b[1;32mnot\u001b[0m \u001b[1;33m(\u001b[0m\u001b[1;36m200\u001b[0m \u001b[1;33m<=\u001b[0m \u001b[0mresponse\u001b[0m\u001b[1;33m.\u001b[0m\u001b[0mstatus_code\u001b[0m \u001b[1;33m<\u001b[0m \u001b[1;36m300\u001b[0m\u001b[1;33m)\u001b[0m\u001b[1;33m:\u001b[0m\u001b[1;33m\u001b[0m\u001b[1;33m\u001b[0m\u001b[0m\n\u001b[1;32m--> 318\u001b[1;33m             \u001b[1;32mraise\u001b[0m \u001b[0mBinanceAPIException\u001b[0m\u001b[1;33m(\u001b[0m\u001b[0mresponse\u001b[0m\u001b[1;33m,\u001b[0m \u001b[0mresponse\u001b[0m\u001b[1;33m.\u001b[0m\u001b[0mstatus_code\u001b[0m\u001b[1;33m,\u001b[0m \u001b[0mresponse\u001b[0m\u001b[1;33m.\u001b[0m\u001b[0mtext\u001b[0m\u001b[1;33m)\u001b[0m\u001b[1;33m\u001b[0m\u001b[1;33m\u001b[0m\u001b[0m\n\u001b[0m\u001b[0;32m    319\u001b[0m         \u001b[1;32mtry\u001b[0m\u001b[1;33m:\u001b[0m\u001b[1;33m\u001b[0m\u001b[1;33m\u001b[0m\u001b[0m\n\u001b[0;32m    320\u001b[0m             \u001b[1;32mreturn\u001b[0m \u001b[0mresponse\u001b[0m\u001b[1;33m.\u001b[0m\u001b[0mjson\u001b[0m\u001b[1;33m(\u001b[0m\u001b[1;33m)\u001b[0m\u001b[1;33m\u001b[0m\u001b[1;33m\u001b[0m\u001b[0m\n",
      "\u001b[1;31mBinanceAPIException\u001b[0m: APIError(code=-1111): Precision is over the maximum defined for this asset."
     ]
    }
   ],
   "source": [
    "client.futures_create_order(symbol=sym, side='SELL', type='MARKET', quantity=size)"
   ]
  },
  {
   "cell_type": "code",
   "execution_count": 69,
   "metadata": {},
   "outputs": [
    {
     "data": {
      "text/plain": [
       "0.004546033131489463"
      ]
     },
     "execution_count": 69,
     "metadata": {},
     "output_type": "execute_result"
    }
   ],
   "source": [
    "quantity"
   ]
  },
  {
   "cell_type": "code",
   "execution_count": 66,
   "metadata": {},
   "outputs": [
    {
     "data": {
      "text/plain": [
       "219.749"
      ]
     },
     "execution_count": 66,
     "metadata": {},
     "output_type": "execute_result"
    }
   ],
   "source": [
    "size"
   ]
  },
  {
   "cell_type": "code",
   "execution_count": 59,
   "metadata": {},
   "outputs": [
    {
     "data": {
      "text/plain": [
       "2196.65"
      ]
     },
     "execution_count": 59,
     "metadata": {},
     "output_type": "execute_result"
    }
   ],
   "source": [
    "float(client.get_symbol_ticker(symbol='ETHUSDT')['price'])"
   ]
  },
  {
   "cell_type": "code",
   "execution_count": 4,
   "metadata": {},
   "outputs": [
    {
     "data": {
      "text/plain": [
       "{}"
      ]
     },
     "execution_count": 4,
     "metadata": {},
     "output_type": "execute_result"
    }
   ],
   "source": [
    "client.create_test_order(symbol = 'DOGEUSDT',\n",
    "                            side = Client.SIDE_BUY,\n",
    "                            type = Client.ORDER_TYPE_MARKET,\n",
    "                            quantity=34.6)"
   ]
  },
  {
   "cell_type": "code",
   "execution_count": 22,
   "metadata": {},
   "outputs": [
    {
     "ename": "BinanceAPIException",
     "evalue": "APIError(code=-2019): Margin is insufficient.",
     "output_type": "error",
     "traceback": [
      "\u001b[1;31m---------------------------------------------------------------------------\u001b[0m",
      "\u001b[1;31mBinanceAPIException\u001b[0m                       Traceback (most recent call last)",
      "\u001b[1;32m<ipython-input-22-ef5f900b78c3>\u001b[0m in \u001b[0;36m<module>\u001b[1;34m\u001b[0m\n\u001b[0;32m     12\u001b[0m             \u001b[0mside\u001b[0m\u001b[1;33m=\u001b[0m\u001b[1;34m'BUY'\u001b[0m\u001b[1;33m,\u001b[0m\u001b[1;33m\u001b[0m\u001b[1;33m\u001b[0m\u001b[0m\n\u001b[0;32m     13\u001b[0m             \u001b[0mtype\u001b[0m\u001b[1;33m=\u001b[0m\u001b[1;34m'MARKET'\u001b[0m\u001b[1;33m,\u001b[0m\u001b[1;33m\u001b[0m\u001b[1;33m\u001b[0m\u001b[0m\n\u001b[1;32m---> 14\u001b[1;33m             quantity=quantity)\n\u001b[0m\u001b[0;32m     15\u001b[0m \u001b[0mprint\u001b[0m\u001b[1;33m(\u001b[0m\u001b[0morder\u001b[0m\u001b[1;33m)\u001b[0m\u001b[1;33m\u001b[0m\u001b[1;33m\u001b[0m\u001b[0m\n",
      "\u001b[1;32m~\\Anaconda3\\lib\\site-packages\\binance\\client.py\u001b[0m in \u001b[0;36mfutures_create_order\u001b[1;34m(self, **params)\u001b[0m\n\u001b[0;32m   5289\u001b[0m \u001b[1;33m\u001b[0m\u001b[0m\n\u001b[0;32m   5290\u001b[0m         \"\"\"\n\u001b[1;32m-> 5291\u001b[1;33m         \u001b[1;32mreturn\u001b[0m \u001b[0mself\u001b[0m\u001b[1;33m.\u001b[0m\u001b[0m_request_futures_api\u001b[0m\u001b[1;33m(\u001b[0m\u001b[1;34m'post'\u001b[0m\u001b[1;33m,\u001b[0m \u001b[1;34m'order'\u001b[0m\u001b[1;33m,\u001b[0m \u001b[1;32mTrue\u001b[0m\u001b[1;33m,\u001b[0m \u001b[0mdata\u001b[0m\u001b[1;33m=\u001b[0m\u001b[0mparams\u001b[0m\u001b[1;33m)\u001b[0m\u001b[1;33m\u001b[0m\u001b[1;33m\u001b[0m\u001b[0m\n\u001b[0m\u001b[0;32m   5292\u001b[0m \u001b[1;33m\u001b[0m\u001b[0m\n\u001b[0;32m   5293\u001b[0m     \u001b[1;32mdef\u001b[0m \u001b[0mfutures_place_batch_order\u001b[0m\u001b[1;33m(\u001b[0m\u001b[0mself\u001b[0m\u001b[1;33m,\u001b[0m \u001b[1;33m**\u001b[0m\u001b[0mparams\u001b[0m\u001b[1;33m)\u001b[0m\u001b[1;33m:\u001b[0m\u001b[1;33m\u001b[0m\u001b[1;33m\u001b[0m\u001b[0m\n",
      "\u001b[1;32m~\\Anaconda3\\lib\\site-packages\\binance\\client.py\u001b[0m in \u001b[0;36m_request_futures_api\u001b[1;34m(self, method, path, signed, **kwargs)\u001b[0m\n\u001b[0;32m    331\u001b[0m         \u001b[0muri\u001b[0m \u001b[1;33m=\u001b[0m \u001b[0mself\u001b[0m\u001b[1;33m.\u001b[0m\u001b[0m_create_futures_api_uri\u001b[0m\u001b[1;33m(\u001b[0m\u001b[0mpath\u001b[0m\u001b[1;33m)\u001b[0m\u001b[1;33m\u001b[0m\u001b[1;33m\u001b[0m\u001b[0m\n\u001b[0;32m    332\u001b[0m \u001b[1;33m\u001b[0m\u001b[0m\n\u001b[1;32m--> 333\u001b[1;33m         \u001b[1;32mreturn\u001b[0m \u001b[0mself\u001b[0m\u001b[1;33m.\u001b[0m\u001b[0m_request\u001b[0m\u001b[1;33m(\u001b[0m\u001b[0mmethod\u001b[0m\u001b[1;33m,\u001b[0m \u001b[0muri\u001b[0m\u001b[1;33m,\u001b[0m \u001b[0msigned\u001b[0m\u001b[1;33m,\u001b[0m \u001b[1;32mTrue\u001b[0m\u001b[1;33m,\u001b[0m \u001b[1;33m**\u001b[0m\u001b[0mkwargs\u001b[0m\u001b[1;33m)\u001b[0m\u001b[1;33m\u001b[0m\u001b[1;33m\u001b[0m\u001b[0m\n\u001b[0m\u001b[0;32m    334\u001b[0m \u001b[1;33m\u001b[0m\u001b[0m\n\u001b[0;32m    335\u001b[0m     \u001b[1;32mdef\u001b[0m \u001b[0m_request_futures_data_api\u001b[0m\u001b[1;33m(\u001b[0m\u001b[0mself\u001b[0m\u001b[1;33m,\u001b[0m \u001b[0mmethod\u001b[0m\u001b[1;33m,\u001b[0m \u001b[0mpath\u001b[0m\u001b[1;33m,\u001b[0m \u001b[0msigned\u001b[0m\u001b[1;33m=\u001b[0m\u001b[1;32mFalse\u001b[0m\u001b[1;33m,\u001b[0m \u001b[1;33m**\u001b[0m\u001b[0mkwargs\u001b[0m\u001b[1;33m)\u001b[0m \u001b[1;33m->\u001b[0m \u001b[0mDict\u001b[0m\u001b[1;33m:\u001b[0m\u001b[1;33m\u001b[0m\u001b[1;33m\u001b[0m\u001b[0m\n",
      "\u001b[1;32m~\\Anaconda3\\lib\\site-packages\\binance\\client.py\u001b[0m in \u001b[0;36m_request\u001b[1;34m(self, method, uri, signed, force_params, **kwargs)\u001b[0m\n\u001b[0;32m    307\u001b[0m \u001b[1;33m\u001b[0m\u001b[0m\n\u001b[0;32m    308\u001b[0m         \u001b[0mself\u001b[0m\u001b[1;33m.\u001b[0m\u001b[0mresponse\u001b[0m \u001b[1;33m=\u001b[0m \u001b[0mgetattr\u001b[0m\u001b[1;33m(\u001b[0m\u001b[0mself\u001b[0m\u001b[1;33m.\u001b[0m\u001b[0msession\u001b[0m\u001b[1;33m,\u001b[0m \u001b[0mmethod\u001b[0m\u001b[1;33m)\u001b[0m\u001b[1;33m(\u001b[0m\u001b[0muri\u001b[0m\u001b[1;33m,\u001b[0m \u001b[1;33m**\u001b[0m\u001b[0mkwargs\u001b[0m\u001b[1;33m)\u001b[0m\u001b[1;33m\u001b[0m\u001b[1;33m\u001b[0m\u001b[0m\n\u001b[1;32m--> 309\u001b[1;33m         \u001b[1;32mreturn\u001b[0m \u001b[0mself\u001b[0m\u001b[1;33m.\u001b[0m\u001b[0m_handle_response\u001b[0m\u001b[1;33m(\u001b[0m\u001b[0mself\u001b[0m\u001b[1;33m.\u001b[0m\u001b[0mresponse\u001b[0m\u001b[1;33m)\u001b[0m\u001b[1;33m\u001b[0m\u001b[1;33m\u001b[0m\u001b[0m\n\u001b[0m\u001b[0;32m    310\u001b[0m \u001b[1;33m\u001b[0m\u001b[0m\n\u001b[0;32m    311\u001b[0m     \u001b[1;33m@\u001b[0m\u001b[0mstaticmethod\u001b[0m\u001b[1;33m\u001b[0m\u001b[1;33m\u001b[0m\u001b[0m\n",
      "\u001b[1;32m~\\Anaconda3\\lib\\site-packages\\binance\\client.py\u001b[0m in \u001b[0;36m_handle_response\u001b[1;34m(response)\u001b[0m\n\u001b[0;32m    316\u001b[0m         \"\"\"\n\u001b[0;32m    317\u001b[0m         \u001b[1;32mif\u001b[0m \u001b[1;32mnot\u001b[0m \u001b[1;33m(\u001b[0m\u001b[1;36m200\u001b[0m \u001b[1;33m<=\u001b[0m \u001b[0mresponse\u001b[0m\u001b[1;33m.\u001b[0m\u001b[0mstatus_code\u001b[0m \u001b[1;33m<\u001b[0m \u001b[1;36m300\u001b[0m\u001b[1;33m)\u001b[0m\u001b[1;33m:\u001b[0m\u001b[1;33m\u001b[0m\u001b[1;33m\u001b[0m\u001b[0m\n\u001b[1;32m--> 318\u001b[1;33m             \u001b[1;32mraise\u001b[0m \u001b[0mBinanceAPIException\u001b[0m\u001b[1;33m(\u001b[0m\u001b[0mresponse\u001b[0m\u001b[1;33m,\u001b[0m \u001b[0mresponse\u001b[0m\u001b[1;33m.\u001b[0m\u001b[0mstatus_code\u001b[0m\u001b[1;33m,\u001b[0m \u001b[0mresponse\u001b[0m\u001b[1;33m.\u001b[0m\u001b[0mtext\u001b[0m\u001b[1;33m)\u001b[0m\u001b[1;33m\u001b[0m\u001b[1;33m\u001b[0m\u001b[0m\n\u001b[0m\u001b[0;32m    319\u001b[0m         \u001b[1;32mtry\u001b[0m\u001b[1;33m:\u001b[0m\u001b[1;33m\u001b[0m\u001b[1;33m\u001b[0m\u001b[0m\n\u001b[0;32m    320\u001b[0m             \u001b[1;32mreturn\u001b[0m \u001b[0mresponse\u001b[0m\u001b[1;33m.\u001b[0m\u001b[0mjson\u001b[0m\u001b[1;33m(\u001b[0m\u001b[1;33m)\u001b[0m\u001b[1;33m\u001b[0m\u001b[1;33m\u001b[0m\u001b[0m\n",
      "\u001b[1;31mBinanceAPIException\u001b[0m: APIError(code=-2019): Margin is insufficient."
     ]
    }
   ],
   "source": [
    "client.create_test_order(symbol = 'DOGEUSDT',\n",
    "                            side = Client.SIDE_BUY,\n",
    "                            type = Client.ORDER_TYPE_MARKET,\n",
    "                            quantity=34.6)\n",
    "#下面這個就真的買了阿\n",
    "# order = client.create_order(symbol = 'DOGEUSDT',\n",
    "#             side = Client.SIDE_BUY,\n",
    "#             type = Client.ORDER_TYPE_MARKET,\n",
    "#             quantity=34.6)\n",
    "price_per_trade = 10 #我一單就是10美金\n",
    "quantity = float(round(34.6, precision))\n",
    "order = client.futures_create_order(symbol = 'BTCUSDT',\n",
    "            side='BUY',\n",
    "            type='MARKET',\n",
    "            quantity=quantity)\n",
    "print(order)"
   ]
  },
  {
   "cell_type": "code",
   "execution_count": 107,
   "metadata": {},
   "outputs": [
    {
     "name": "stdout",
     "output_type": "stream",
     "text": [
      "{'symbol': 'DOGEUSDT', 'orderId': 1227585676, 'orderListId': -1, 'clientOrderId': 'TJxMbqxfsUQOy3ndX0Mx39', 'transactTime': 1622975126422, 'price': '0.00000000', 'origQty': '34.60000000', 'executedQty': '34.60000000', 'cummulativeQuoteQty': '12.74664000', 'status': 'FILLED', 'timeInForce': 'GTC', 'type': 'MARKET', 'side': 'SELL', 'fills': [{'price': '0.36840000', 'qty': '34.60000000', 'commission': '0.00002443', 'commissionAsset': 'BNB', 'tradeId': 260817926}]}\n"
     ]
    }
   ],
   "source": [
    "#真賣\n",
    "# order = client.create_order(symbol = 'DOGEUSDT',\n",
    "#             side = Client.SIDE_SELL,\n",
    "#             type = Client.ORDER_TYPE_MARKET,\n",
    "#             quantity=34.6)\n",
    "# print(order)"
   ]
  },
  {
   "cell_type": "code",
   "execution_count": 18,
   "metadata": {},
   "outputs": [],
   "source": [
    "api_key = os.environ.get('binance_api')\n",
    "api_secret = os.environ.get('binance_secret')"
   ]
  },
  {
   "cell_type": "code",
   "execution_count": 21,
   "metadata": {},
   "outputs": [],
   "source": [
    "api_key = 'MrJxzbG8M2mPnBIY2M8mjDakt4O3DasJFmmKObyBQ1ScqmdZtXw00geR1dNB3RgZ'\n",
    "api_secret = 'G4ZIDktXNCtVmnVfSep2JViuBrnS0vulXHI2JPZGzTkGHotuXwQyjujPguqTpxEG'\n",
    "client = Client(api_key, api_secret)\n",
    "client.API_URL = 'https://testnet.binance.vision/api'"
   ]
  },
  {
   "cell_type": "code",
   "execution_count": 22,
   "metadata": {},
   "outputs": [
    {
     "name": "stdout",
     "output_type": "stream",
     "text": [
      "{'makerCommission': 0, 'takerCommission': 0, 'buyerCommission': 0, 'sellerCommission': 0, 'canTrade': True, 'canWithdraw': False, 'canDeposit': False, 'updateTime': 1622962480547, 'accountType': 'SPOT', 'balances': [{'asset': 'BNB', 'free': '1000.00000000', 'locked': '0.00000000'}, {'asset': 'BTC', 'free': '1.00000000', 'locked': '0.00000000'}, {'asset': 'BUSD', 'free': '10000.00000000', 'locked': '0.00000000'}, {'asset': 'ETH', 'free': '100.00000000', 'locked': '0.00000000'}, {'asset': 'LTC', 'free': '500.00000000', 'locked': '0.00000000'}, {'asset': 'TRX', 'free': '500000.00000000', 'locked': '0.00000000'}, {'asset': 'USDT', 'free': '10000.00000000', 'locked': '0.00000000'}, {'asset': 'XRP', 'free': '50000.00000000', 'locked': '0.00000000'}], 'permissions': ['SPOT']}\n"
     ]
    }
   ],
   "source": [
    "print(client.get_account())"
   ]
  },
  {
   "cell_type": "code",
   "execution_count": 28,
   "metadata": {},
   "outputs": [
    {
     "name": "stdout",
     "output_type": "stream",
     "text": [
      "{'asset': 'BTC', 'free': '1.00000000', 'locked': '0.00000000'}\n"
     ]
    }
   ],
   "source": [
    "#print(client.futures_account_balance())\n",
    "#print(client.get_margin_account())\n",
    "print(client.get_asset_balance(asset='BTC'))"
   ]
  },
  {
   "cell_type": "code",
   "execution_count": 25,
   "metadata": {},
   "outputs": [
    {
     "name": "stdout",
     "output_type": "stream",
     "text": [
      "35659.97000000\n"
     ]
    }
   ],
   "source": [
    "# get latest price from Binance API\n",
    "btc_price = client.get_symbol_ticker(symbol=\"BTCUSDT\")\n",
    "# print full output (dictionary)\n",
    "print(btc_price[\"price\"])"
   ]
  },
  {
   "cell_type": "code",
   "execution_count": 33,
   "metadata": {},
   "outputs": [
    {
     "data": {
      "text/plain": [
       "{'symbol': 'BTCUSDT',\n",
       " 'orderId': 712693,\n",
       " 'orderListId': -1,\n",
       " 'clientOrderId': 'UHR56f4hJfMzFVWAzSz9xF',\n",
       " 'transactTime': 1622972491127,\n",
       " 'price': '0.00000000',\n",
       " 'origQty': '0.00100000',\n",
       " 'executedQty': '0.00100000',\n",
       " 'cummulativeQuoteQty': '36.24662000',\n",
       " 'status': 'FILLED',\n",
       " 'timeInForce': 'GTC',\n",
       " 'type': 'MARKET',\n",
       " 'side': 'BUY',\n",
       " 'fills': [{'price': '36246.62000000',\n",
       "   'qty': '0.00100000',\n",
       "   'commission': '0.00000000',\n",
       "   'commissionAsset': 'BTC',\n",
       "   'tradeId': 143569}]}"
      ]
     },
     "execution_count": 33,
     "metadata": {},
     "output_type": "execute_result"
    }
   ],
   "source": [
    "order = client.create_order(symbol = 'BTCUSDT',\n",
    "                            side = Client.SIDE_BUY,\n",
    "                            type = Client.ORDER_TYPE_MARKET,\n",
    "                            quantity=0.001)\n",
    "order"
   ]
  },
  {
   "cell_type": "code",
   "execution_count": 4,
   "metadata": {},
   "outputs": [],
   "source": [
    "df = pd.read_sql('BTCUSDT', engine)"
   ]
  },
  {
   "cell_type": "code",
   "execution_count": 5,
   "metadata": {
    "scrolled": true
   },
   "outputs": [
    {
     "data": {
      "text/plain": [
       "<matplotlib.axes._subplots.AxesSubplot at 0x22f69a8c9e8>"
      ]
     },
     "execution_count": 5,
     "metadata": {},
     "output_type": "execute_result"
    },
    {
     "data": {
      "image/png": "[encoded data removed]",
      "text/plain": [
       "<Figure size 432x288 with 1 Axes>"
      ]
     },
     "metadata": {
      "needs_background": "light"
     },
     "output_type": "display_data"
    }
   ],
   "source": [
    "%matplotlib inline\n",
    "df.Price.plot()"
   ]
  },
  {
   "cell_type": "code",
   "execution_count": 99,
   "metadata": {},
   "outputs": [],
   "source": [
    "# trend following\n",
    "\n",
    "def strategy(entry, lookback, qty, open_position=False):\n",
    "    while True:\n",
    "        df = pd.read_sql('BTCUSDT', engine)\n",
    "        lookbackperiod = df.iloc[-lookback:]\n",
    "        cumret = (lookbackperiod.Price.pct_change() + 1).cumprod() -1\n",
    "        if not open_position:\n",
    "            if cumret[cumret.last_valid_index()] > entry:\n",
    "                order = client.create_order(symbol = 'BTCUSDT',\n",
    "                            side = Client.SIDE_BUY,\n",
    "                            type = Client.ORDER_TYPE_MARKET,\n",
    "                            quantity=qty)\n",
    "                print(order)\n",
    "                open_position = True\n",
    "                break\n",
    "        \n",
    "    if open_position:\n",
    "        while True:\n",
    "            \n",
    "            df = pd.read_sql('BTCUSDT', engine)\n",
    "            \n",
    "            sincebuy = df.loc[df.Time > pd.to_datetime(order['transactTime'],\n",
    "                                                       unit = 'ms')]\n",
    "            if len(sincebuy) > 1:\n",
    "                sincebuyret = (sincebuy.Price.pct_change() +1).cumprod() -1\n",
    "                last_entry = sincebuyret[sincebuyret.last_valid_index()]\n",
    "                print(last_entry)\n",
    "                if last_entry > 0.00015 or last_entry < -0.00015:\n",
    "                    order = client.create_order(symbol = 'BTCUSDT',\n",
    "                            side = Client.SIDE_SELL,\n",
    "                            type = Client.ORDER_TYPE_MARKET,\n",
    "                            quantity=qty)\n",
    "\n",
    "                    print(order)\n",
    "                    break\n",
    "                "
   ]
  },
  {
   "cell_type": "code",
   "execution_count": 100,
   "metadata": {
    "scrolled": true
   },
   "outputs": [
    {
     "name": "stdout",
     "output_type": "stream",
     "text": [
      "{'symbol': 'BTCUSDT', 'orderId': 715804, 'orderListId': -1, 'clientOrderId': '1c43V6WNUmMHv7bqbkqbLB', 'transactTime': 1622973979483, 'price': '0.00000000', 'origQty': '0.00100000', 'executedQty': '0.00100000', 'cummulativeQuoteQty': '36.22912205', 'status': 'FILLED', 'timeInForce': 'GTC', 'type': 'MARKET', 'side': 'BUY', 'fills': [{'price': '36200.00000000', 'qty': '0.00055300', 'commission': '0.00000000', 'commissionAsset': 'BTC', 'tradeId': 144120}, {'price': '36264.00000000', 'qty': '0.00033200', 'commission': '0.00000000', 'commissionAsset': 'BTC', 'tradeId': 144121}, {'price': '36268.47000000', 'qty': '0.00011500', 'commission': '0.00000000', 'commissionAsset': 'BTC', 'tradeId': 144122}]}\n",
      "-0.00021902014099262068\n",
      "{'symbol': 'BTCUSDT', 'orderId': 715806, 'orderListId': -1, 'clientOrderId': 'U0Fni3YdVw3erva2SN2JCY', 'transactTime': 1622973980147, 'price': '0.00000000', 'origQty': '0.00100000', 'executedQty': '0.00100000', 'cummulativeQuoteQty': '36.04822000', 'status': 'FILLED', 'timeInForce': 'GTC', 'type': 'MARKET', 'side': 'SELL', 'fills': [{'price': '36048.22000000', 'qty': '0.00100000', 'commission': '0.00000000', 'commissionAsset': 'USDT', 'tradeId': 144123}]}\n"
     ]
    }
   ],
   "source": [
    "strategy(0.0002, 60, 0.001)"
   ]
  },
  {
   "cell_type": "code",
   "execution_count": 101,
   "metadata": {},
   "outputs": [],
   "source": [
    "order = client.create_order(symbol = 'BTCUSDT',\n",
    "            side = Client.SIDE_SELL,\n",
    "            type = Client.ORDER_TYPE_MARKET,\n",
    "            quantity=0.001)"
   ]
  },
  {
   "cell_type": "code",
   "execution_count": 102,
   "metadata": {},
   "outputs": [
    {
     "data": {
      "text/plain": [
       "{'symbol': 'BTCUSDT',\n",
       " 'orderId': 715888,\n",
       " 'orderListId': -1,\n",
       " 'clientOrderId': 'atP2PakP4Rxu6MZJyWmMCP',\n",
       " 'transactTime': 1622974017657,\n",
       " 'price': '0.00000000',\n",
       " 'origQty': '0.00100000',\n",
       " 'executedQty': '0.00100000',\n",
       " 'cummulativeQuoteQty': '36.09916000',\n",
       " 'status': 'FILLED',\n",
       " 'timeInForce': 'GTC',\n",
       " 'type': 'MARKET',\n",
       " 'side': 'SELL',\n",
       " 'fills': [{'price': '36099.16000000',\n",
       "   'qty': '0.00100000',\n",
       "   'commission': '0.00000000',\n",
       "   'commissionAsset': 'USDT',\n",
       "   'tradeId': 144136}]}"
      ]
     },
     "execution_count": 102,
     "metadata": {},
     "output_type": "execute_result"
    }
   ],
   "source": [
    "order"
   ]
  },
  {
   "cell_type": "code",
   "execution_count": 56,
   "metadata": {},
   "outputs": [
    {
     "ename": "NameError",
     "evalue": "name 'api_key' is not defined",
     "output_type": "error",
     "traceback": [
      "\u001b[1;31m---------------------------------------------------------------------------\u001b[0m",
      "\u001b[1;31mNameError\u001b[0m                                 Traceback (most recent call last)",
      "\u001b[1;32m<ipython-input-56-031dde8f9fd0>\u001b[0m in \u001b[0;36m<module>\u001b[1;34m\u001b[0m\n\u001b[0;32m      1\u001b[0m \u001b[1;32mfrom\u001b[0m \u001b[0mbinance\u001b[0m \u001b[1;32mimport\u001b[0m \u001b[0mClient\u001b[0m\u001b[1;33m,\u001b[0m \u001b[0mThreadedWebsocketManager\u001b[0m\u001b[1;33m,\u001b[0m \u001b[0mThreadedDepthCacheManager\u001b[0m\u001b[1;33m\u001b[0m\u001b[1;33m\u001b[0m\u001b[0m\n\u001b[1;32m----> 2\u001b[1;33m \u001b[0mclient\u001b[0m \u001b[1;33m=\u001b[0m \u001b[0mClient\u001b[0m\u001b[1;33m(\u001b[0m\u001b[0mapi_key\u001b[0m\u001b[1;33m,\u001b[0m \u001b[0mapi_secret\u001b[0m\u001b[1;33m)\u001b[0m\u001b[1;33m\u001b[0m\u001b[1;33m\u001b[0m\u001b[0m\n\u001b[0m\u001b[0;32m      3\u001b[0m \u001b[1;33m\u001b[0m\u001b[0m\n\u001b[0;32m      4\u001b[0m \u001b[1;31m# get market depth\u001b[0m\u001b[1;33m\u001b[0m\u001b[1;33m\u001b[0m\u001b[1;33m\u001b[0m\u001b[0m\n\u001b[0;32m      5\u001b[0m \u001b[0mdepth\u001b[0m \u001b[1;33m=\u001b[0m \u001b[0mclient\u001b[0m\u001b[1;33m.\u001b[0m\u001b[0mget_order_book\u001b[0m\u001b[1;33m(\u001b[0m\u001b[0msymbol\u001b[0m\u001b[1;33m=\u001b[0m\u001b[1;34m'BNBBTC'\u001b[0m\u001b[1;33m)\u001b[0m\u001b[1;33m\u001b[0m\u001b[1;33m\u001b[0m\u001b[0m\n",
      "\u001b[1;31mNameError\u001b[0m: name 'api_key' is not defined"
     ]
    }
   ],
   "source": [
    "from binance import Client, ThreadedWebsocketManager, ThreadedDepthCacheManager\n",
    "client = Client(api_key, api_secret)\n",
    "\n",
    "# get market depth\n",
    "depth = client.get_order_book(symbol='BNBBTC')\n",
    "\n",
    "# place a test market buy order, to place an actual order use the create_order function\n",
    "order = client.create_test_order(\n",
    "    symbol='BNBBTC',\n",
    "    side=Client.SIDE_BUY,\n",
    "    type=Client.ORDER_TYPE_MARKET,\n",
    "    quantity=100)\n",
    "\n",
    "# get all symbol prices\n",
    "prices = client.get_all_tickers()\n",
    "\n",
    "# withdraw 100 ETH\n",
    "# check docs for assumptions around withdrawals\n",
    "from binance.exceptions import BinanceAPIException\n",
    "try:\n",
    "    result = client.withdraw(\n",
    "        asset='ETH',\n",
    "        address='<eth_address>',\n",
    "        amount=100)\n",
    "except BinanceAPIException as e:\n",
    "    print(e)\n",
    "else:\n",
    "    print(\"Success\")\n",
    "\n",
    "# fetch list of withdrawals\n",
    "withdraws = client.get_withdraw_history()\n",
    "\n",
    "# fetch list of ETH withdrawals\n",
    "eth_withdraws = client.get_withdraw_history(coin='ETH')\n",
    "\n",
    "# get a deposit address for BTC\n",
    "address = client.get_deposit_address(coin='BTC')\n",
    "\n",
    "# get historical kline data from any date range\n",
    "\n",
    "# fetch 1 minute klines for the last day up until now\n",
    "klines = client.get_historical_klines(\"BNBBTC\", Client.KLINE_INTERVAL_1MINUTE, \"1 day ago UTC\")\n",
    "\n",
    "# fetch 30 minute klines for the last month of 2017\n",
    "klines = client.get_historical_klines(\"ETHBTC\", Client.KLINE_INTERVAL_30MINUTE, \"1 Dec, 2017\", \"1 Jan, 2018\")\n",
    "\n",
    "# fetch weekly klines since it listed\n",
    "klines = client.get_historical_klines(\"NEOBTC\", Client.KLINE_INTERVAL_1WEEK, \"1 Jan, 2017\")\n",
    "\n",
    "# socket manager using threads\n",
    "twm = ThreadedWebsocketManager()\n",
    "twm.start()\n",
    "\n",
    "# depth cache manager using threads\n",
    "dcm = ThreadedDepthCacheManager()\n",
    "dcm.start()\n",
    "\n",
    "def handle_socket_message(msg):\n",
    "    print(f\"message type: {msg['e']}\")\n",
    "    print(msg)\n",
    "\n",
    "def handle_dcm_message(depth_cache):\n",
    "    print(f\"symbol {depth_cache.symbol}\")\n",
    "    print(\"top 5 bids\")\n",
    "    print(depth_cache.get_bids()[:5])\n",
    "    print(\"top 5 asks\")\n",
    "    print(depth_cache.get_asks()[:5])\n",
    "    print(\"last update time {}\".format(depth_cache.update_time))\n",
    "\n",
    "twm.start_kline_socket(callback=handle_socket_message, symbol='BNBBTC')\n",
    "\n",
    "dcm.start_depth_cache(callback=handle_dcm_message, symbol='ETHBTC')\n",
    "\n",
    "# replace with a current options symbol\n",
    "options_symbol = 'BTC-210430-36000-C'\n",
    "dcm.start_options_depth_cache(callback=handle_dcm_message, symbol=options_symbol)\n",
    "\n",
    "# join the threaded managers to the main thread\n",
    "twm.join()\n",
    "dcm.join()\n"
   ]
  },
  {
   "cell_type": "code",
   "execution_count": null,
   "metadata": {},
   "outputs": [],
   "source": []
  }
 ],
 "metadata": {
  "kernelspec": {
   "display_name": "Python 3",
   "language": "python",
   "name": "python3"
  },
  "language_info": {
   "codemirror_mode": {
    "name": "ipython",
    "version": 3
   },
   "file_extension": ".py",
   "mimetype": "text/x-python",
   "name": "python",
   "nbconvert_exporter": "python",
   "pygments_lexer": "ipython3",
   "version": "3.7.3"
  }
 },
 "nbformat": 4,
 "nbformat_minor": 4
}
